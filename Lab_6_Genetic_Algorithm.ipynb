{
  "nbformat": 4,
  "nbformat_minor": 0,
  "metadata": {
    "colab": {
      "provenance": []
    },
    "kernelspec": {
      "name": "python3",
      "display_name": "Python 3"
    },
    "language_info": {
      "name": "python"
    }
  },
  "cells": [
    {
      "cell_type": "markdown",
      "source": [
        "**Topics**\n",
        "\n",
        "Implementation of Genetic Algorithm"
      ],
      "metadata": {
        "id": "FI8PISXZMDVX"
      }
    },
    {
      "cell_type": "markdown",
      "source": [
        "**Problem 1: In Genetic Algorithm Single Point Crossover is a form of crossover in which two-parent chromosome are selected and a random/given point is selected, and the genes/data are interchanged between them after the given/selected point for example**\n",
        "\n",
        "Examples:\n",
        "\n",
        "P1: 000011110011\n",
        "\n",
        "P2: 101010101010\n",
        "\n",
        "Point: 4\n",
        "\n",
        "After Crossover:\n",
        "\n",
        "C1: 000010101010\n",
        "\n",
        "C2: 101011110011\n",
        "\n",
        "The problem is to select a random point for the crossover of two given parents and generate at least five generations of children from the given pair of a chromosome."
      ],
      "metadata": {
        "id": "HUfrR1aDMdPP"
      }
    },
    {
      "cell_type": "markdown",
      "source": [
        "**Genetic Algorithm**\\\n",
        "\n",
        "1. Initialize two parent chromosomes P1 and P2.\n",
        "\n",
        "2. Repeat for each generation i = 1 to N:\n",
        "\n",
        " Select a random crossover point k such that 1 ≤ k < chromosome_length.\n",
        "\n",
        " Generate two children:\n",
        "\n",
        "    C1 = P1[0:k] + P2[k:]\n",
        "\n",
        "    C2 = P2[0:k] + P1[k:]\n",
        "\n",
        " Replace parents with children (P1 = C1, P2 = C2).\n",
        "\n",
        " Print/Store C1 and C2.\n",
        "\n",
        "3.  Stop after generating N generations."
      ],
      "metadata": {
        "id": "2J2tdz9xN-Qb"
      }
    },
    {
      "cell_type": "code",
      "source": [
        "import random\n",
        "\n",
        "def one_point_crossover(p1, p2, g):\n",
        "    print(\"Initial Parents:\")\n",
        "    print(\"Parent 1:\", p1)\n",
        "    print(\"Parent 2:\", p2)\n",
        "    print(\".\" * 40)\n",
        "\n",
        "    # Repeat generations\n",
        "    for gen in range(1, g + 1):\n",
        "\n",
        "        point = random.randint(1, len(p1) - 1)   # Choose a random crossover point\n",
        "\n",
        "\n",
        "        c1 = p1[:point] + p2[point:]   # Generate children\n",
        "        c2 = p2[:point] + p1[point:]\n",
        "\n",
        "\n",
        "        print(f\"Generation {gen}:\")          # Display result\n",
        "        print(f\"Crossover Point: {point}\")\n",
        "        print(f\"Child 1: {c1}\")\n",
        "        print(f\"Child 2: {c2}\")\n",
        "        print(\"-\" * 40)\n",
        "\n",
        "\n",
        "        p1, p2 = c1, c2        # Children become parents for next generation\n",
        "\n",
        "p1 = \"000011110011\"\n",
        "p2 = \"101010101010\"\n",
        "\n",
        "one_point_crossover(p1, p2, g=5)\n"
      ],
      "metadata": {
        "colab": {
          "base_uri": "https://localhost:8080/"
        },
        "id": "tVdyoibtMct8",
        "outputId": "79bc9feb-b386-4907-97e3-b3905ba1274c"
      },
      "execution_count": null,
      "outputs": [
        {
          "output_type": "stream",
          "name": "stdout",
          "text": [
            "Initial Parents:\n",
            "Parent 1: 000011110011\n",
            "Parent 2: 101010101010\n",
            "........................................\n",
            "Generation 1:\n",
            "Crossover Point: 11\n",
            "Child 1: 000011110010\n",
            "Child 2: 101010101011\n",
            "----------------------------------------\n",
            "Generation 2:\n",
            "Crossover Point: 6\n",
            "Child 1: 000011101011\n",
            "Child 2: 101010110010\n",
            "----------------------------------------\n",
            "Generation 3:\n",
            "Crossover Point: 8\n",
            "Child 1: 000011100010\n",
            "Child 2: 101010111011\n",
            "----------------------------------------\n",
            "Generation 4:\n",
            "Crossover Point: 5\n",
            "Child 1: 000010111011\n",
            "Child 2: 101011100010\n",
            "----------------------------------------\n",
            "Generation 5:\n",
            "Crossover Point: 3\n",
            "Child 1: 000011100010\n",
            "Child 2: 101010111011\n",
            "----------------------------------------\n"
          ]
        }
      ]
    },
    {
      "cell_type": "markdown",
      "source": [
        "**Task 01: Two-Point Crossover in Genetic Algorithm**\n",
        "\n",
        "In this problem, instead of using a single-point crossover, you will implement a **two-point** crossover.\n",
        "\n",
        "Two parent chromosomes are selected.\n",
        "\n",
        "Two random crossover points are chosen.\n",
        "\n",
        "The genes between these two points are swapped between the parents to produce children.\n",
        "\n",
        "**Example**\n",
        "\n",
        "Parent 1 (P1): 110011001100\n",
        "\n",
        "Parent 2 (P2): 001100110011\n",
        "\n",
        "Crossover Points: 3 and 8\n",
        "\n",
        "\n",
        "After crossover:\n",
        "\n",
        "Child 1 (C1): 110100110011\n",
        "Child 2 (C2): 001011001100\n",
        "\n",
        "**Task**\n",
        "\n",
        "Write a Python program that:\n",
        "\n",
        "1. Accepts two parents (binary chromosomes).\n",
        "\n",
        "2. Randomly selects two crossover points.\n",
        "\n",
        "3. Performs two-point crossover to generate children.\n",
        "\n",
        "4. Repeats the process for at least 5 generations.\n",
        "\n",
        "5. Print the parents, crossover points, and resulting children for each generation."
      ],
      "metadata": {
        "id": "EVWIR3zxPAU4"
      }
    },
    {
      "cell_type": "code",
      "source": [
        "#Task 01\n",
        "\n"
      ],
      "metadata": {
        "id": "W_uQoKZTPS4h"
      },
      "execution_count": null,
      "outputs": []
    },
    {
      "cell_type": "markdown",
      "source": [
        "**Task 02: Consider the problem of maximizing the function f(x) = 27x –x2, where x can vary between integer values 0 and 31. Encode x as a binary string of length 5. Thus, the chromosomes for our genetic algorithm will be sequences of 0’s and 1’s with a length of 5 bits and have a range from 0 (00000) to 31 (11111).**\n",
        "\n",
        "Start with an initial population of four (4) chromosomes at random and apply Genetic Algorithm Operators (Selection, Crossover, and Mutation) to illustrate how genetic algorithm ‘evolve’ toward fitter candidate solution."
      ],
      "metadata": {
        "id": "ns9vZHkgMhI1"
      }
    },
    {
      "cell_type": "code",
      "source": [
        "#Task 02\n",
        "\n"
      ],
      "metadata": {
        "id": "VjQxHQnXPa8B"
      },
      "execution_count": null,
      "outputs": []
    }
  ]
}